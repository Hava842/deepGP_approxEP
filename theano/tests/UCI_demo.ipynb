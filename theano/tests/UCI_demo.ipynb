{
 "cells": [
  {
   "cell_type": "code",
   "execution_count": 1,
   "metadata": {
    "collapsed": false
   },
   "outputs": [
    {
     "name": "stdout",
     "output_type": "stream",
     "text": [
      "Couldn't import dot_parser, loading of dot files will not be possible.\n",
      "Theano version: 0.9.0, base compile dir: /home/mh740/.theano\n"
     ]
    }
   ],
   "source": [
    "import math\n",
    "import numpy as np\n",
    "import sys\n",
    "import theano\n",
    "sys.path.append('../code/')\n",
    "import AEPDGP_net\n",
    "import time\n",
    "\n",
    "sys.path.append('/homes/mlghomes/mh740/Doubly-Stochastic-DGP/demos')\n",
    "from get_data import get_regression_data\n",
    "\n",
    "print 'Theano version: ' + theano.__version__ + ', base compile dir: ' + theano.config.base_compiledir\n",
    "# theano.config.compute_test_value = 'warn'\n",
    "theano.config.optimizer = 'None'\n",
    "# theano.exception_verbosity = 'high'\n",
    "theano.config.mode = 'FAST_RUN'\n",
    "theano.config.optimizer = 'fast_run'\n",
    "np.random.seed(1234)"
   ]
  },
  {
   "cell_type": "code",
   "execution_count": null,
   "metadata": {
    "collapsed": false
   },
   "outputs": [
    {
     "name": "stdout",
     "output_type": "stream",
     "text": [
      "N: 7372, D: 8, Ns: 820\n"
     ]
    }
   ],
   "source": [
    "X, Y, Xs, Ys = get_regression_data('kin8nm', split=0)\n",
    "Y = Y.reshape((-1))\n",
    "Ys = Ys.reshape((-1))\n",
    "print 'N: {}, D: {}, Ns: {}'.format(X.shape[0], X.shape[1], Xs.shape[0])"
   ]
  },
  {
   "cell_type": "code",
   "execution_count": null,
   "metadata": {
    "collapsed": false
   },
   "outputs": [
    {
     "name": "stderr",
     "output_type": "stream",
     "text": [
      "<<!! BUG IN FGRAPH.REPLACE OR A LISTENER !!>> <type 'exceptions.TypeError'> ('The type of the replacement must be compatible with the type of the original Variable.', Sum{acc_dtype=int64}.0, Elemwise{mul,no_inplace}.0, TensorType(int64, scalar), TensorType(bool, scalar), 'local_opt_alloc') local_opt_alloc\n",
      "ERROR (theano.gof.opt): Optimization failure due to: local_opt_alloc\n",
      "ERROR (theano.gof.opt): node: Sum{acc_dtype=int64}(Alloc.0)\n",
      "ERROR (theano.gof.opt): TRACEBACK:\n",
      "ERROR (theano.gof.opt): Traceback (most recent call last):\n",
      "  File \"/usr/local/lib/python2.7/dist-packages/theano/gof/opt.py\", line 2022, in process_node\n",
      "    remove=remove)\n",
      "  File \"/usr/local/lib/python2.7/dist-packages/theano/gof/toolbox.py\", line 391, in replace_all_validate_remove\n",
      "    chk = fgraph.replace_all_validate(replacements, reason)\n",
      "  File \"/usr/local/lib/python2.7/dist-packages/theano/gof/toolbox.py\", line 340, in replace_all_validate\n",
      "    fgraph.replace(r, new_r, reason=reason, verbose=False)\n",
      "  File \"/usr/local/lib/python2.7/dist-packages/theano/gof/fg.py\", line 481, in replace\n",
      "    str(reason))\n",
      "TypeError: ('The type of the replacement must be compatible with the type of the original Variable.', Sum{acc_dtype=int64}.0, Elemwise{mul,no_inplace}.0, TensorType(int64, scalar), TensorType(bool, scalar), 'local_opt_alloc')\n",
      "\n",
      "<<!! BUG IN FGRAPH.REPLACE OR A LISTENER !!>> <type 'exceptions.TypeError'> ('The type of the replacement must be compatible with the type of the original Variable.', Sum{acc_dtype=int64}.0, Elemwise{mul,no_inplace}.0, TensorType(int64, scalar), TensorType(bool, scalar), 'local_opt_alloc') local_opt_alloc\n",
      "ERROR (theano.gof.opt): Optimization failure due to: local_opt_alloc\n",
      "ERROR (theano.gof.opt): node: Sum{acc_dtype=int64}(Alloc.0)\n",
      "ERROR (theano.gof.opt): TRACEBACK:\n",
      "ERROR (theano.gof.opt): Traceback (most recent call last):\n",
      "  File \"/usr/local/lib/python2.7/dist-packages/theano/gof/opt.py\", line 2022, in process_node\n",
      "    remove=remove)\n",
      "  File \"/usr/local/lib/python2.7/dist-packages/theano/gof/toolbox.py\", line 391, in replace_all_validate_remove\n",
      "    chk = fgraph.replace_all_validate(replacements, reason)\n",
      "  File \"/usr/local/lib/python2.7/dist-packages/theano/gof/toolbox.py\", line 340, in replace_all_validate\n",
      "    fgraph.replace(r, new_r, reason=reason, verbose=False)\n",
      "  File \"/usr/local/lib/python2.7/dist-packages/theano/gof/fg.py\", line 481, in replace\n",
      "    str(reason))\n",
      "TypeError: ('The type of the replacement must be compatible with the type of the original Variable.', Sum{acc_dtype=int64}.0, Elemwise{mul,no_inplace}.0, TensorType(int64, scalar), TensorType(bool, scalar), 'local_opt_alloc')\n",
      "\n",
      "<<!! BUG IN FGRAPH.REPLACE OR A LISTENER !!>> <type 'exceptions.TypeError'> ('The type of the replacement must be compatible with the type of the original Variable.', Sum{acc_dtype=int64}.0, Elemwise{mul,no_inplace}.0, TensorType(int64, scalar), TensorType(bool, scalar), 'local_opt_alloc') local_opt_alloc\n",
      "ERROR (theano.gof.opt): Optimization failure due to: local_opt_alloc\n",
      "ERROR (theano.gof.opt): node: Sum{acc_dtype=int64}(Alloc.0)\n",
      "ERROR (theano.gof.opt): TRACEBACK:\n",
      "ERROR (theano.gof.opt): Traceback (most recent call last):\n",
      "  File \"/usr/local/lib/python2.7/dist-packages/theano/gof/opt.py\", line 2022, in process_node\n",
      "    remove=remove)\n",
      "  File \"/usr/local/lib/python2.7/dist-packages/theano/gof/toolbox.py\", line 391, in replace_all_validate_remove\n",
      "    chk = fgraph.replace_all_validate(replacements, reason)\n",
      "  File \"/usr/local/lib/python2.7/dist-packages/theano/gof/toolbox.py\", line 340, in replace_all_validate\n",
      "    fgraph.replace(r, new_r, reason=reason, verbose=False)\n",
      "  File \"/usr/local/lib/python2.7/dist-packages/theano/gof/fg.py\", line 481, in replace\n",
      "    str(reason))\n",
      "TypeError: ('The type of the replacement must be compatible with the type of the original Variable.', Sum{acc_dtype=int64}.0, Elemwise{mul,no_inplace}.0, TensorType(int64, scalar), TensorType(bool, scalar), 'local_opt_alloc')\n",
      "\n",
      "WARNING (theano.tensor.blas): We did not found a dynamic library into the library_dir of the library we use for blas. If you use ATLAS, make sure to compile it with dynamics library.\n"
     ]
    },
    {
     "name": "stdout",
     "output_type": "stream",
     "text": [
      "training iter: 10, logZ: 5388.08756\n",
      "training iter: 20, logZ: 3811.29999\n",
      "training iter: 30, logZ: 3838.51347\n"
     ]
    }
   ],
   "source": [
    "# number of GP layers\n",
    "nolayers = 2\n",
    "# number of hidden dimension in intermediate hidden layers\n",
    "n_hiddens = [3]\n",
    "# number of inducing points per layer\n",
    "M = 50\n",
    "n_pseudos = [M for _ in range(nolayers)]\n",
    "\n",
    "no_iterations = 1000\n",
    "no_points_per_mb = 500\n",
    "\n",
    "# We construct the network\n",
    "net = AEPDGP_net.AEPDGP_net(X, Y, n_hiddens, n_pseudos)\n",
    "t0 = time.time()\n",
    "# train\n",
    "test_nll, test_rms, energy = net.train(no_iterations=no_iterations,\n",
    "                               no_points_per_mb=no_points_per_mb,\n",
    "                               lrate=0.01)"
   ]
  },
  {
   "cell_type": "code",
   "execution_count": null,
   "metadata": {
    "collapsed": false,
    "scrolled": false
   },
   "outputs": [],
   "source": [
    "t1 = time.time()\n",
    "print 'time: ', t1 - t0\n",
    "\n",
    "# We make predictions for the test set\n",
    "m, v = net.predict(Xs)\n",
    "\n",
    "# We compute the test RMSE\n",
    "rmse = np.sqrt(np.mean((Ys - m)**2))\n",
    "print 'test rmse: ', rmse\n",
    "\n",
    "# We compute the test log-likelihood\n",
    "test_ll = np.mean(-0.5 * np.log(2 * math.pi * (v)) - \\\n",
    "    0.5 * (Ys - m)**2 / (v))\n",
    "print 'test log-likelihood: ', test_ll"
   ]
  }
 ],
 "metadata": {
  "kernelspec": {
   "display_name": "Python 2",
   "language": "python",
   "name": "python2"
  },
  "language_info": {
   "codemirror_mode": {
    "name": "ipython",
    "version": 2
   },
   "file_extension": ".py",
   "mimetype": "text/x-python",
   "name": "python",
   "nbconvert_exporter": "python",
   "pygments_lexer": "ipython2",
   "version": "2.7.6"
  }
 },
 "nbformat": 4,
 "nbformat_minor": 2
}
